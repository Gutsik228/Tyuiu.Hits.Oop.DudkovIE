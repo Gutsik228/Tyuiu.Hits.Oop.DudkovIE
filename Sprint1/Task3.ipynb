{
 "cells": [
  {
   "cell_type": "markdown",
   "metadata": {},
   "source": [
    "<h1 style=\"color:DodgerBlue\">Индивидальный проект</h1>"
   ]
  },
  {
   "cell_type": "markdown",
   "metadata": {},
   "source": [
    "<h2 style=\"color:DodgerBlue\">Название проекта:</h2>\n",
    "\n",
    "----\n",
    "\n",
    "### Вариант задания \n"
   ]
  },
  {
   "cell_type": "markdown",
   "metadata": {},
   "source": [
    "<h2 style=\"color:DodgerBlue\">Описание проекта:</h2>\n",
    "\n",
    "----\n",
    "\n",
    "[ваш текст]\n",
    "\n",
    "#### Дополнительное задание\n",
    "Добавьте к сущестующим классам конструктора классов с использованием гетторов и сетторов и реализуйте взаимодействие объектов между собой"
   ]
  },
  {
   "cell_type": "markdown",
   "metadata": {},
   "source": [
    "<h2 style=\"color:DodgerBlue\">Реализация:</h2>\n",
    "\n",
    "----"
   ]
  },
  {
   "cell_type": "code",
   "execution_count": 1,
   "metadata": {
    "dotnet_interactive": {
     "language": "csharp"
    },
    "polyglot_notebook": {
     "kernelName": "csharp"
    }
   },
   "outputs": [],
   "source": [
    "abstract class Movie\n",
    "{\n",
    "    public string Title { get; set; }\n",
    "    public string Director { get; set; }\n",
    "    public int ReleaseYear { get; set; }\n",
    "    public int Rating { get; private set; }\n",
    "\n",
    "    public abstract void Watch();\n",
    "    \n",
    "    public virtual void GetInfo()\n",
    "    {\n",
    "        Console.WriteLine($\"{Title}, {Director}, {ReleaseYear}\");\n",
    "    }\n",
    "\n",
    "    public virtual void Rate(int rating)\n",
    "    {\n",
    "        this.Rating = rating;\n",
    "        Console.WriteLine($\"Фильм оценен на {rating}/10\");\n",
    "    }\n",
    "}\n",
    "\n",
    "class Documentary : Movie\n",
    "{\n",
    "    public string Theme { get; set; }\n",
    "\n",
    "    public override void Watch()\n",
    "    {\n",
    "        Console.WriteLine(\"Вы смотрите документальный фильм\");\n",
    "    }\n",
    "\n",
    "    public override void GetInfo()\n",
    "    {\n",
    "        Console.WriteLine($\"{Title}, {Director}, {ReleaseYear}, Тема: {Theme}\");\n",
    "    }\n",
    "}\n",
    "\n",
    "class FeatureFilm : Movie\n",
    "{\n",
    "    public string Genre { get; set; }\n",
    "\n",
    "    public override void Watch()\n",
    "    {\n",
    "        Console.WriteLine(\"Вы смотрите художественный фильм\");\n",
    "    }\n",
    "\n",
    "    public override void GetInfo()\n",
    "    {\n",
    "        Console.WriteLine($\"{Title}, {Director}, {ReleaseYear}, Жанр: {Genre}\");\n",
    "    }\n",
    "}\n",
    "\n",
    "class AnimatedMovie : Movie\n",
    "{\n",
    "    public string AnimationStudio { get; set; }\n",
    "\n",
    "    public override void Watch()\n",
    "    {\n",
    "        Console.WriteLine(\"Вы смотрите анимационный фильм\");\n",
    "    }\n",
    "\n",
    "    public override void GetInfo()\n",
    "    {\n",
    "        Console.WriteLine($\"{Title}, {Director}, {ReleaseYear}, Анимационная студия: {AnimationStudio}\");\n",
    "    }\n",
    "}"
   ]
  }
 ],
 "metadata": {
  "kernelspec": {
   "display_name": ".NET (C#)",
   "language": "C#",
   "name": ".net-csharp"
  },
  "polyglot_notebook": {
   "kernelInfo": {
    "defaultKernelName": "csharp",
    "items": [
     {
      "aliases": [],
      "languageName": "csharp",
      "name": "csharp"
     }
    ]
   }
  }
 },
 "nbformat": 4,
 "nbformat_minor": 2
}
