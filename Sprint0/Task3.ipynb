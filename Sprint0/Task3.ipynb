{
 "cells": [
  {
   "cell_type": "markdown",
   "metadata": {},
   "source": [
    "<h1 style=\"color:DodgerBlue\">Индивидальный проект</h1>"
   ]
  },
  {
   "cell_type": "markdown",
   "metadata": {},
   "source": [
    "<h2 style=\"color:DodgerBlue\">Название проекта:</h2>\n",
    "\n",
    "----\n",
    "\n",
    "### Вариант задания - 6\n"
   ]
  },
  {
   "cell_type": "markdown",
   "metadata": {},
   "source": [
    "<h2 style=\"color:DodgerBlue\">Описание проекта:</h2>\n",
    "\n",
    "----\n",
    "Описание задачи:\n",
    "Создать базовый класс Movie в C#, который будет представлять информацию о\n",
    "фильмах. На основе этого класса разработать 2-3 производных класса,\n",
    "демонстрирующих принципы наследования и полиморфизма. В каждом из классов\n",
    "должны быть реализованы новые атрибуты и методы, а также переопределены\n",
    "некоторые методы базового класса для демонстрации полиморфизма.\n",
    "Требования к базовому классу Movie:\n",
    "• Атрибуты: Название (Title), Режиссер (Director), Год выпуска (ReleaseYear).\n",
    "• Методы:\n",
    "o GetInfo(): метод для получения информации о фильме в виде строки.\n",
    "o Watch(): метод для вывода сообщения о просмотре фильма.\n",
    "o Rate(): метод для оценки фильма.\n",
    "Требования к производным классам:\n",
    "1. Документальный фильм (Documentary): Должен содержать дополнительные\n",
    "атрибуты, такие как Тематика (Theme). Метод Watch() должен быть\n",
    "переопределен для добавления информации о тематике при просмотре\n",
    "документального фильма.\n",
    "2. Игровой фильм (FeatureFilm): Должен содержать дополнительные атрибуты,\n",
    "такие как Жанр (Genre). Метод Rate() должен быть переопределен для\n",
    "добавления логики оценки в зависимости от жанра.\n",
    "3. Анимационный фильм (AnimatedMovie) (если требуется третий класс):\n",
    "Должен содержать дополнительные атрибуты, такие как Студия анимации\n",
    "(AnimationStudio). Метод GetInfo() должен быть переопределен для\n",
    "включения информации о студии анимации в описании фильма."
   ]
  },
  {
   "cell_type": "markdown",
   "metadata": {},
   "source": [
    "<h2 style=\"color:DodgerBlue\">Реализация:</h2>\n",
    "\n",
    "----"
   ]
  },
  {
   "cell_type": "code",
   "execution_count": 2,
   "metadata": {
    "dotnet_interactive": {
     "language": "csharp"
    },
    "polyglot_notebook": {
     "kernelName": "csharp"
    }
   },
   "outputs": [],
   "source": [
    "abstract class Movie\n",
    "{\n",
    "    public string Title { get; set; }\n",
    "    public string Director { get; set; }\n",
    "    public int ReleaseYear { get; set; }\n",
    "    public int Rating { get; private set; }\n",
    "\n",
    "    public abstract void Watch();\n",
    "    \n",
    "    public virtual void GetInfo()\n",
    "    {\n",
    "        Console.WriteLine($\"{Title}, {Director}, {ReleaseYear}\");\n",
    "    }\n",
    "\n",
    "    public virtual void Rate(int rating)\n",
    "    {\n",
    "        this.Rating = rating;\n",
    "        Console.WriteLine($\"Фильм оценен на {rating}/10\");\n",
    "    }\n",
    "}\n",
    "\n",
    "class Documentary : Movie\n",
    "{\n",
    "    public string Theme { get; set; }\n",
    "\n",
    "    public override void Watch()\n",
    "    {\n",
    "        Console.WriteLine(\"Вы смотрите документальный фильм\");\n",
    "    }\n",
    "\n",
    "    public override void GetInfo()\n",
    "    {\n",
    "        Console.WriteLine($\"{Title}, {Director}, {ReleaseYear}, Тема: {Theme}\");\n",
    "    }\n",
    "}\n",
    "\n",
    "class FeatureFilm : Movie\n",
    "{\n",
    "    public string Genre { get; set; }\n",
    "\n",
    "    public override void Watch()\n",
    "    {\n",
    "        Console.WriteLine(\"Вы смотрите художественный фильм\");\n",
    "    }\n",
    "\n",
    "    public override void GetInfo()\n",
    "    {\n",
    "        Console.WriteLine($\"{Title}, {Director}, {ReleaseYear}, Жанр: {Genre}\");\n",
    "    }\n",
    "}\n",
    "\n",
    "class AnimatedMovie : Movie\n",
    "{\n",
    "    public string AnimationStudio { get; set; }\n",
    "\n",
    "    public override void Watch()\n",
    "    {\n",
    "        Console.WriteLine(\"Вы смотрите анимационный фильм\");\n",
    "    }\n",
    "\n",
    "    public override void GetInfo()\n",
    "    {\n",
    "        Console.WriteLine($\"{Title}, {Director}, {ReleaseYear}, Анимационная студия: {AnimationStudio}\");\n",
    "    }\n",
    "}"
   ]
  },
  {
   "cell_type": "code",
   "execution_count": 2,
   "metadata": {},
   "outputs": [
    {
     "ename": "Error",
     "evalue": "(4,29): error CS1525: Invalid expression term ';'",
     "output_type": "error",
     "traceback": [
      "(4,29): error CS1525: Invalid expression term ';'"
     ]
    }
   ],
   "source": [
    "class Plant\n",
    "{\n",
    "    protected int age;\n",
    "    public string TipLeaf {get; set;} \n",
    "\n",
    "    public Plant()\n",
    "    {\n",
    "        age = 0;\n",
    "    }\n",
    "\n",
    "    public virtual void Flowing()\n",
    "    {\n",
    "        Console.WriteLine(\"Растение цветет\");\n",
    "    }\n",
    "}\n",
    "\n",
    "class Tree: Plant\n",
    "{\n",
    "    public override void Flowing()\n",
    "    {\n",
    "        Console.WriteLine(\"Дерево цветет\");\n",
    "\n",
    "    }\n",
    "\n",
    "    public void Growing(int value)\n",
    "    {\n",
    "        age += value;\n",
    "        Console.WriteLine($\"Дерево выросло на {value} год-лет, теперь ему {age}\");\n",
    "    }\n",
    "}\n",
    "\n",
    "Plant plant = new Plant();\n",
    "Tree tree = new Tree();\n",
    "\n",
    "tree.Flowing();\n",
    "tree.Growing(5);\n",
    "tree.TipLeaf = \"default\""
   ]
  },
  {
   "cell_type": "code",
   "execution_count": null,
   "metadata": {},
   "outputs": [],
   "source": []
  }
 ],
 "metadata": {
  "kernelspec": {
   "display_name": ".NET (C#)",
   "language": "C#",
   "name": ".net-csharp"
  },
  "polyglot_notebook": {
   "kernelInfo": {
    "defaultKernelName": "csharp",
    "items": [
     {
      "aliases": [],
      "languageName": "csharp",
      "name": "csharp"
     }
    ]
   }
  }
 },
 "nbformat": 4,
 "nbformat_minor": 2
}
