{
 "cells": [
  {
   "cell_type": "markdown",
   "metadata": {},
   "source": [
    "<h1 style=\"color:DodgerBlue\">Индивидальный проект</h1>"
   ]
  },
  {
   "cell_type": "markdown",
   "metadata": {},
   "source": [
    "<h2 style=\"color:DodgerBlue\">Название проекта:</h2>\n",
    "\n",
    "----\n",
    "\n",
    "### Вариант задания \n"
   ]
  },
  {
   "cell_type": "markdown",
   "metadata": {},
   "source": [
    "<h2 style=\"color:DodgerBlue\">Описание проекта:</h2>\n",
    "\n",
    "----\n",
    "\n",
    "[ваш текст]\n",
    "\n",
    "#### Дополнительное задание\n",
    "Добавьте к сущестующим классам (базовыму и производным 3-4 атрибута и метода) и реализуйте полиморфизм с перекрытием и прегегрузкой методов, а также generic классы"
   ]
  },
  {
   "cell_type": "markdown",
   "metadata": {},
   "source": [
    "<h2 style=\"color:DodgerBlue\">Реализация:</h2>\n",
    "\n",
    "----"
   ]
  },
  {
   "cell_type": "code",
   "execution_count": null,
   "metadata": {
    "dotnet_interactive": {
     "language": "csharp"
    },
    "polyglot_notebook": {
     "kernelName": "csharp"
    }
   },
   "outputs": [],
   "source": [
    "public interface IRentable\n",
    "{\n",
    "    void Rent();\n",
    "}\n",
    "\n",
    "public interface IStreamable\n",
    "{\n",
    "    void Stream();\n",
    "}\n",
    "\n",
    "public abstract class Movie\n",
    "{\n",
    "    public string Title { get; set; }\n",
    "    public string Director { get; set; }\n",
    "    public int ReleaseYear { get; set; }\n",
    "    public int Rating { get; private set; }\n",
    "\n",
    "    public Movie(string title, string director, int releaseYear)\n",
    "    {\n",
    "        Title = title;\n",
    "        Director = director;\n",
    "        ReleaseYear = releaseYear;\n",
    "    }\n",
    "\n",
    "    public abstract void Watch();\n",
    "\n",
    "    public virtual void GetInfo()\n",
    "    {\n",
    "        Console.WriteLine($\"{Title}, {Director}, {ReleaseYear}\");\n",
    "    }\n",
    "\n",
    "    public virtual void Rate(int rating)\n",
    "    {\n",
    "        this.Rating = rating;\n",
    "        Console.WriteLine($\"Фильм оценен на {rating}/10\");\n",
    "    }\n",
    "\n",
    "    // Перегрузка метода Rate\n",
    "    public void Rate(int rating, string comment)\n",
    "    {\n",
    "        this.Rating = rating;\n",
    "        Console.WriteLine($\"Фильм оценен на {rating}/10. Комментарий: {comment}\");\n",
    "    }\n",
    "}\n",
    "\n",
    "class Documentary : Movie, IStreamable\n",
    "{\n",
    "    public string Theme { get; set; }\n",
    "\n",
    "    public Documentary(string title, string director, int releaseYear, string theme)\n",
    "        : base(title, director, releaseYear)\n",
    "    {\n",
    "        Theme = theme;\n",
    "    }\n",
    "\n",
    "    public override void Watch()\n",
    "    {\n",
    "        Console.WriteLine(\"Вы смотрите документальный фильм\");\n",
    "    }\n",
    "\n",
    "    public override void GetInfo()\n",
    "    {\n",
    "        // Перекрытие метода с дополнительным вызовом базового метода\n",
    "        base.GetInfo();\n",
    "        Console.WriteLine($\"Тема: {Theme}\");\n",
    "    }\n",
    "\n",
    "    public void Stream()\n",
    "    {\n",
    "        Console.WriteLine($\"Документальный фильм \\\"{Title}\\\" доступен для потоковой передачи.\");\n",
    "    }\n",
    "}\n",
    "\n",
    "class FeatureFilm : Movie, IRentable\n",
    "{\n",
    "    public string Genre { get; set; }\n",
    "\n",
    "    public FeatureFilm(string title, string director, int releaseYear, string genre)\n",
    "        : base(title, director, releaseYear)\n",
    "    {\n",
    "        Genre = genre;\n",
    "    }\n",
    "\n",
    "    public override void Watch()\n",
    "    {\n",
    "        Console.WriteLine(\"Вы смотрите художественный фильм\");\n",
    "    }\n",
    "\n",
    "    public override void GetInfo()\n",
    "    {\n",
    "        // Перекрытие метода с дополнительным вызовом базового метода\n",
    "        base.GetInfo();\n",
    "        Console.WriteLine($\"Жанр: {Genre}\");\n",
    "    }\n",
    "\n",
    "    public void Rent()\n",
    "    {\n",
    "        Console.WriteLine($\"Художественный фильм \\\"{Title}\\\" доступен для аренды.\");\n",
    "    }\n",
    "}\n",
    "\n",
    "class AnimatedMovie : Movie, IStreamable, IRentable\n",
    "{\n",
    "    public string AnimationStudio { get; set; }\n",
    "\n",
    "    public AnimatedMovie(string title, string director, int releaseYear, string animationStudio)\n",
    "        : base(title, director, releaseYear)\n",
    "    {\n",
    "        AnimationStudio = animationStudio;\n",
    "    }\n",
    "\n",
    "    public override void Watch()\n",
    "    {\n",
    "        Console.WriteLine(\"Вы смотрите анимационный фильм\");\n",
    "    }\n",
    "\n",
    "    public override void GetInfo()\n",
    "    {\n",
    "        // Перекрытие метода с дополнительным вызовом базового метода\n",
    "        base.GetInfo();\n",
    "        Console.WriteLine($\"Анимационная студия: {AnimationStudio}\");\n",
    "    }\n",
    "\n",
    "    public void Stream()\n",
    "    {\n",
    "        Console.WriteLine($\"Анимационный фильм \\\"{Title}\\\" доступен для потоковой передачи.\");\n",
    "    }\n",
    "\n",
    "    public void Rent()\n",
    "    {\n",
    "        Console.WriteLine($\"Анимационный фильм \\\"{Title}\\\" доступен для аренды.\");\n",
    "    }\n",
    "}\n"
   ]
  }
 ],
 "metadata": {
  "kernelspec": {
   "display_name": ".NET (C#)",
   "language": "C#",
   "name": ".net-csharp"
  },
  "polyglot_notebook": {
   "kernelInfo": {
    "defaultKernelName": "csharp",
    "items": [
     {
      "aliases": [],
      "languageName": "csharp",
      "name": "csharp"
     }
    ]
   }
  }
 },
 "nbformat": 4,
 "nbformat_minor": 2
}
